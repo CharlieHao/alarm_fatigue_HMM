{
 "cells": [
  {
   "cell_type": "code",
   "execution_count": 56,
   "metadata": {
    "collapsed": true
   },
   "outputs": [],
   "source": [
    "import numpy as np \n",
    "import scipy as cp \n",
    "import pandas as pd \n",
    "import os\n",
    "import matplotlib.pyplot as plt\n",
    "import re"
   ]
  },
  {
   "cell_type": "code",
   "execution_count": 3,
   "metadata": {},
   "outputs": [
    {
     "name": "stdout",
     "output_type": "stream",
     "text": [
      "/Users/zehaodong/Desktop/alarm_fatigue\n"
     ]
    }
   ],
   "source": [
    "cd .."
   ]
  },
  {
   "cell_type": "code",
   "execution_count": 4,
   "metadata": {},
   "outputs": [
    {
     "name": "stdout",
     "output_type": "stream",
     "text": [
      "Change_point.pdf\r\n",
      "IEEE.pdf\r\n",
      "\u001b[34mPreprocessing\u001b[m\u001b[m/\r\n",
      "Rssa.pdf\r\n",
      "US20140043164.pdf\r\n",
      "[Nina_Golyandina,_Vladimir_Nekrutkin,_Anatoly_A_Zh(b-ok.org).pdf\r\n",
      "\u001b[34mdata\u001b[m\u001b[m/\r\n",
      "\u001b[34mnew_file\u001b[m\u001b[m/\r\n",
      "\u001b[34mpySSA-master\u001b[m\u001b[m/\r\n"
     ]
    }
   ],
   "source": [
    "ls"
   ]
  },
  {
   "cell_type": "code",
   "execution_count": 5,
   "metadata": {},
   "outputs": [
    {
     "name": "stdout",
     "output_type": "stream",
     "text": [
      "/Users/zehaodong/Desktop/alarm_fatigue/data\n"
     ]
    }
   ],
   "source": [
    "cd data"
   ]
  },
  {
   "cell_type": "code",
   "execution_count": 6,
   "metadata": {},
   "outputs": [
    {
     "name": "stderr",
     "output_type": "stream",
     "text": [
      "/usr/local/lib/python3.6/site-packages/IPython/core/interactiveshell.py:2683: DtypeWarning: Columns (6) have mixed types. Specify dtype option on import or set low_memory=False.\n",
      "  interactivity=interactivity, compiler=compiler, result=result)\n"
     ]
    }
   ],
   "source": [
    "AdmData = pd.read_csv('AdmData.csv')\n",
    "AlarmTable = pd.read_csv('AlarmTable_v2.csv', error_bad_lines = False)\n",
    "ComplicationTime = pd.read_csv('ComplicationTimes.csv', error_bad_lines = False)\n",
    "DescriptionTable = pd.read_csv('DescriptionTable.csv', error_bad_lines = False, encoding = 'ISO-8859-1')"
   ]
  },
  {
   "cell_type": "code",
   "execution_count": 7,
   "metadata": {
    "collapsed": true
   },
   "outputs": [],
   "source": [
    "AlarmTable_column_name = ['ID', 'alarmstarttime', 'AlarmLevel', 'AlarmParcode', 'AlarmMessage', 'AlarmDuration', 'AlarmComment']"
   ]
  },
  {
   "cell_type": "code",
   "execution_count": 7,
   "metadata": {
    "collapsed": true
   },
   "outputs": [],
   "source": [
    "import matplotlib.pyplot as plt\n",
    "import re"
   ]
  },
  {
   "cell_type": "code",
   "execution_count": 11,
   "metadata": {
    "collapsed": true
   },
   "outputs": [],
   "source": [
    "def AlarmMessage_indicator():\n",
    "    pattern = re.compile(r'([A-Z]+\\d*\\s*)+|\\s') #pattern is used to match the type of alarm\n",
    "    Alarm_type=[]\n",
    "    n=0\n",
    "    for row in AlarmTable.iterrows():\n",
    "        if not isinstance(row[1]['AlarmMessage'],str):\n",
    "            continue\n",
    "        else:\n",
    "            m = pattern.match(row[1]['AlarmMessage'])\n",
    "            Alarm_type.append(m.group())\n",
    "    Alarm_type_levels = list(set(Alarm_type))\n",
    "    level_label = zip(range(len(Alarm_type_levels)),Alarm_type_levels)\n",
    "    return {n:alarm_type for n,alarm_type in level_label}"
   ]
  },
  {
   "cell_type": "code",
   "execution_count": 12,
   "metadata": {
    "collapsed": true
   },
   "outputs": [],
   "source": [
    "Alarm_type_dict = AlarmMessage_indicator()"
   ]
  },
  {
   "cell_type": "code",
   "execution_count": 14,
   "metadata": {},
   "outputs": [
    {
     "data": {
      "text/plain": [
       "(955674,)"
      ]
     },
     "execution_count": 14,
     "metadata": {},
     "output_type": "execute_result"
    }
   ],
   "source": [
    "d = AlarmTable['AlarmMessage'].as_matrix()\n",
    "d.shape"
   ]
  },
  {
   "cell_type": "markdown",
   "metadata": {},
   "source": [
    "# Object to store all information for each patient"
   ]
  },
  {
   "cell_type": "code",
   "execution_count": 18,
   "metadata": {
    "collapsed": true
   },
   "outputs": [],
   "source": [
    "class Patient(object):\n",
    "    def __init__(self,id):\n",
    "        self.id = id\n",
    "\n",
    "    def patient_alarm_record(self):\n",
    "        store_value_list=[[],[],[],[],[],[],[],[]]\n",
    "        for row in AlarmTable.iterrows():\n",
    "            if((row[1]['ID']==self.id)):\n",
    "                ind = 0\n",
    "                for val in row[1]:\n",
    "                    store_value_list[ind].append(val)\n",
    "                    ind += 1\n",
    "        col_name = ['ID','alarmstarttime','AlarmLevel','AlarmParcode','AlarmMessage','AlarmDuration']\n",
    "        store_value_list = store_value_list[1:7]\n",
    "        Patient = pd.DataFrame({k:v for k,v in zip(col_name,store_value_list)})\n",
    "        return Patient \n",
    "    \n",
    "    def patient_certain_alarm_message(self,k):\n",
    "        # k is the key in dictionary corresponding to alarm type of interest\n",
    "        Patient = self.patient_alarm_record()\n",
    "        store_value_list=[[],[],[],[],[],[]]\n",
    "        pattern = re.compile(Alarm_type_dict[int(k)])\n",
    "        for row in Patient.iterrows():\n",
    "            if isinstance(row[1]['AlarmMessage'],str) and pattern.match(row[1]['AlarmMessage']):\n",
    "                ind = 0\n",
    "                for val in row[1]:\n",
    "                    store_value_list[ind].append(val)\n",
    "                    ind += 1\n",
    "        col_name = ['AlarmDuration','AlarmLevel','AlarmMessage','AlarmParcode','ID','alarmstarttime']\n",
    "        Patient_alarm_message = pd.DataFrame({k:v for k,v in zip(col_name,store_value_list)})\n",
    "        patient_alarm_message = Patient_alarm_message['AlarmMessage'].as_matrix()\n",
    "        levels_of_message = [int(n.split()[-1]) for n in patient_alarm_message]\n",
    "        start_time = Patient_alarm_message['alarmstarttime'].as_matrix()\n",
    "        level = Patient_alarm_message['AlarmLevel'].as_matrix()\n",
    "        parcode = Patient_alarm_message['AlarmParcode'].as_matrix()\n",
    "        duration = Patient_alarm_message['AlarmDuration'].as_matrix()\n",
    "        return levels_of_message, start_time, level, parcode, duration\n",
    "    \n",
    "    def patient_physiological_data(self):\n",
    "        if not os.path.exists('/Users/zehaodong/Desktop/alarm_fatigue/data/NICU_Physiological_Data/%d.csv'%(self.id)):\n",
    "            print('There are no relevant physiological data for patient with id %d'%(self.id))\n",
    "        else:\n",
    "            df_phy_data = pd.read_csv('/Users/zehaodong/Desktop/alarm_fatigue/data/NICU_Physiological_Data/%d.csv'%(self.id))\n",
    "        partime = df_phy_data['ParTime'].as_matrix()\n",
    "        low_bp = df_phy_data['AR1.D'].as_matrix()\n",
    "        mean_bp = df_phy_data['AR1.M'].as_matrix()\n",
    "        high_bp = df_phy_data['AR1.S'].as_matrix()\n",
    "        HR = df_phy_data['HR'].as_matrix()\n",
    "        cvp_2 = df_phy_data['CVP2'].as_matrix()\n",
    "        return partime, low_bp, mean_bp, high_bp,HR,cvp_2\n",
    "    \n",
    "    def patient_whole_alarm_info(self):\n",
    "        Patient = self.patient_alarm_record()\n",
    "        start_time = Patient['alarmstarttime'].as_matrix()\n",
    "        level = Patient['AlarmLevel'].as_matrix()\n",
    "        parcode = Patient['AlarmParcode'].as_matrix()\n",
    "        duration = Patient['AlarmDuration'].as_matrix()\n",
    "        return start_time, level, parcode, duration        "
   ]
  },
  {
   "cell_type": "markdown",
   "metadata": {},
   "source": [
    "### Case Study: ART1 S HI for patient 2222 "
   ]
  },
  {
   "cell_type": "code",
   "execution_count": 19,
   "metadata": {
    "collapsed": true
   },
   "outputs": [],
   "source": [
    "patient_2222 = Patient(2222)"
   ]
  },
  {
   "cell_type": "code",
   "execution_count": 20,
   "metadata": {
    "collapsed": true
   },
   "outputs": [],
   "source": [
    "patient_2222_alarmrecord = patient_2222.patient_alarm_record()"
   ]
  },
  {
   "cell_type": "code",
   "execution_count": 21,
   "metadata": {
    "collapsed": true
   },
   "outputs": [],
   "source": [
    "def search_correspond(dic,val):\n",
    "    for k in dic:\n",
    "        if dic[k]==val:\n",
    "            k_corresponding = k\n",
    "            break\n",
    "    return k_corresponding"
   ]
  },
  {
   "cell_type": "code",
   "execution_count": 28,
   "metadata": {},
   "outputs": [
    {
     "data": {
      "text/plain": [
       "151"
      ]
     },
     "execution_count": 28,
     "metadata": {},
     "output_type": "execute_result"
    }
   ],
   "source": [
    "search_correspond(Alarm_type_dict,'ART1 S HI ')"
   ]
  },
  {
   "cell_type": "code",
   "execution_count": 20,
   "metadata": {
    "collapsed": true
   },
   "outputs": [],
   "source": [
    "p_2222_partime,p_2222_low_bp,p_2222_mean_bp,p_2222_high_bp,p_2222_HR,p_2222_cvp2= patient_2222.patient_physiological_data()"
   ]
  },
  {
   "cell_type": "code",
   "execution_count": 35,
   "metadata": {
    "collapsed": true
   },
   "outputs": [],
   "source": [
    "bp = pd.Series(p_2222_mean_bp,p_2222_partime)"
   ]
  },
  {
   "cell_type": "code",
   "execution_count": 36,
   "metadata": {
    "collapsed": true
   },
   "outputs": [],
   "source": [
    "s = s[s.notnull()]"
   ]
  },
  {
   "cell_type": "code",
   "execution_count": 39,
   "metadata": {},
   "outputs": [
    {
     "data": {
      "image/png": "[encoded data removed]",
      "text/plain": [
       "<matplotlib.figure.Figure at 0x123787f98>"
      ]
     },
     "metadata": {},
     "output_type": "display_data"
    }
   ],
   "source": [
    "s.plot()\n",
    "plt.show()"
   ]
  },
  {
   "cell_type": "code",
   "execution_count": null,
   "metadata": {
    "collapsed": true
   },
   "outputs": [],
   "source": []
  },
  {
   "cell_type": "code",
   "execution_count": 34,
   "metadata": {},
   "outputs": [
    {
     "data": {
      "image/png": "[encoded data removed]",
      "text/plain": [
       "<matplotlib.figure.Figure at 0x133568ef0>"
      ]
     },
     "metadata": {},
     "output_type": "display_data"
    }
   ],
   "source": [
    "plt.figure(figsize=(8,8))\n",
    "plt.subplot(221)\n",
    "plt.plot(p_2222_partime,p_2222_mean_bp)\n",
    "plt.subplot(222)\n",
    "plt.plot(p_2222_partime,p_2222_HR)\n",
    "plt.subplot(223)\n",
    "plt.plot(p_2222_partime,p_2222_cvp2)\n",
    "plt.subplot(224)\n",
    "plt.scatter(p_2222_start_time,p_2222_levels_of_message)\n",
    "plt.show()"
   ]
  },
  {
   "cell_type": "code",
   "execution_count": 25,
   "metadata": {},
   "outputs": [
    {
     "data": {
      "image/png": "[encoded data removed]",
      "text/plain": [
       "<matplotlib.figure.Figure at 0x1088d82e8>"
      ]
     },
     "metadata": {},
     "output_type": "display_data"
    }
   ],
   "source": [
    "plt.plot(p_2222_partime,p_2222_HR)\n",
    "plt.show()\n"
   ]
  },
  {
   "cell_type": "code",
   "execution_count": 29,
   "metadata": {
    "collapsed": true
   },
   "outputs": [],
   "source": [
    "p_2222_levels_of_message, p_2222_start_time, p_2222_level, p_2222_parcode, p_2222_duration = patient_2222.patient_certain_alarm_message(151)"
   ]
  },
  {
   "cell_type": "code",
   "execution_count": 33,
   "metadata": {},
   "outputs": [
    {
     "name": "stdout",
     "output_type": "stream",
     "text": [
      "[6 6 6 6 6 6 6 6 6 6 6 6 6 6 6 6 6 6 6 6 6 6 6 6 6 6 6 6 6 6 6 6 6 6 6 6 6\n",
      " 6 6 6 6 6 6 6 6 6 6 6]\n"
     ]
    }
   ],
   "source": [
    "print(p_2222_level)"
   ]
  },
  {
   "cell_type": "code",
   "execution_count": 155,
   "metadata": {},
   "outputs": [
    {
     "name": "stdout",
     "output_type": "stream",
     "text": [
      "[55  2  0  2  6 16  0  6  2  6 12  6 18 10  2  6  4  4 14 10  0  0  2  0  2\n",
      "  4  2  2  0  2 34  4  4  2  0  2  8 62 14 20  4  4  4 34  0  0  0 10]\n"
     ]
    }
   ],
   "source": [
    "print(p_2222_duration)"
   ]
  },
  {
   "cell_type": "code",
   "execution_count": 143,
   "metadata": {
    "collapsed": true
   },
   "outputs": [],
   "source": [
    "p_2222_start_time_total, p_2222_level_total, p_2222_parcode_total, p_2222_duration_total = patient_2222.patient_whole_alarm_info()"
   ]
  },
  {
   "cell_type": "markdown",
   "metadata": {},
   "source": [
    "# Function to save data"
   ]
  },
  {
   "cell_type": "code",
   "execution_count": 99,
   "metadata": {
    "collapsed": true
   },
   "outputs": [],
   "source": [
    "import codecs\n",
    "import csv\n",
    "def data_output_csv(A):\n",
    "    A = np.array(A)\n",
    "    file_name = input('Please input the file name:')\n",
    "    np.savetxt('/Users/zehaodong/Desktop/alarm_fatigue/new_file/%s.csv'%(file_name), A, delimiter = ',')"
   ]
  },
  {
   "cell_type": "markdown",
   "metadata": {},
   "source": [
    "### Data_all determine the order of different kind of data"
   ]
  },
  {
   "cell_type": "code",
   "execution_count": 80,
   "metadata": {
    "collapsed": true
   },
   "outputs": [],
   "source": [
    "## Useful dataset for patient 2222\n",
    "## order for future conveniance\n",
    "Data_all_2222 = [p_2222_partime,p_2222_low_bp,p_2222_mean_bp,p_2222_high_bp,p_2222_HR,p_2222_start_time, p_2222_level,p_2222_duration]"
   ]
  },
  {
   "cell_type": "code",
   "execution_count": 100,
   "metadata": {},
   "outputs": [
    {
     "name": "stdout",
     "output_type": "stream",
     "text": [
      "Please input the file name:patient2222_physical\n"
     ]
    }
   ],
   "source": [
    "data_output_csv([p_2222_partime,p_2222_low_bp,p_2222_mean_bp,p_2222_high_bp,p_2222_HR])"
   ]
  },
  {
   "cell_type": "code",
   "execution_count": 101,
   "metadata": {},
   "outputs": [
    {
     "name": "stdout",
     "output_type": "stream",
     "text": [
      "Please input the file name:patient2222_alarm\n"
     ]
    }
   ],
   "source": [
    "data_output_csv([p_2222_start_time, p_2222_level,p_2222_duration])"
   ]
  },
  {
   "cell_type": "code",
   "execution_count": 49,
   "metadata": {},
   "outputs": [
    {
     "data": {
      "image/png": "[encoded data removed]",
      "text/plain": [
       "<matplotlib.figure.Figure at 0x12b5ad898>"
      ]
     },
     "metadata": {},
     "output_type": "display_data"
    }
   ],
   "source": [
    "plt.figure(figsize=(30,8))\n",
    "plot1=plt.plot(p_2222_partime,p_2222_mean_bp,c='r')\n",
    "plot2=plt.plot(p_2222_partime,p_2222_HR,'g')\n",
    "plot3=plt.plot(p_2222_partime,p_2222_cvp2,'b')\n",
    "plot4=plt.scatter(p_2222_start_time,p_2222_levels_of_message)\n",
    "plt.show()"
   ]
  },
  {
   "cell_type": "code",
   "execution_count": 51,
   "metadata": {},
   "outputs": [
    {
     "data": {
      "image/png": "[encoded data removed]",
      "text/plain": [
       "<matplotlib.figure.Figure at 0x13381ab00>"
      ]
     },
     "metadata": {},
     "output_type": "display_data"
    },
    {
     "data": {
      "image/png": "[encoded data removed]",
      "text/plain": [
       "<matplotlib.figure.Figure at 0x1340f1160>"
      ]
     },
     "metadata": {},
     "output_type": "display_data"
    }
   ],
   "source": [
    "plt.figure(figsize=(30,8))\n",
    "plot1=plt.plot(p_2222_partime,p_2222_mean_bp,c='r')\n",
    "plot2=plt.plot(p_2222_partime,p_2222_HR,'g')\n",
    "plot3=plt.plot(p_2222_partime,p_2222_cvp2,'b')\n",
    "plot4=plt.scatter(p_2222_start_time,p_2222_levels_of_message)\n",
    "plt.xlim((60000,90000))\n",
    "plt.show()"
   ]
  },
  {
   "cell_type": "code",
   "execution_count": 76,
   "metadata": {
    "collapsed": true
   },
   "outputs": [],
   "source": [
    "data = [p_2222_low_bp,p_2222_mean_bp,p_2222_high_bp,p_2222_HR]\n",
    "min_start_time = min(p_2222_start_time)\n",
    "max_start_time = max(p_2222_start_time)\n",
    "selected_data = [[],[],[],[]]\n",
    "for t in range(len(p_2222_partime)):\n",
    "    start_end_time = zip(p_2222_start_time,p_2222_start_time+p_2222_duration)\n",
    "    g_start_end_time = (se for se in start_end_time)\n",
    "    for se_t in g_start_end_time:\n",
    "        if se_t[0]-30<=p_2222_partime[t] and p_2222_partime[t]<=se_t[1]-30:\n",
    "            for i in range(4):\n",
    "                selected_data[i].append(data[i][t])\n",
    "            break"
   ]
  },
  {
   "cell_type": "code",
   "execution_count": 73,
   "metadata": {
    "collapsed": true
   },
   "outputs": [],
   "source": [
    "start_end_time = zip(p_2222_start_time,p_2222_duration)\n",
    "g_start_end_time = (se for se in start_end_time)"
   ]
  },
  {
   "cell_type": "code",
   "execution_count": 79,
   "metadata": {},
   "outputs": [
    {
     "name": "stdout",
     "output_type": "stream",
     "text": [
      "[[71.0, 72.0, 74.0, 73.0, 74.0, 77.0, 82.0, 76.0, 71.0, 76.0, 83.0, 79.0, 85.0, 76.0, 78.0, 82.0, 75.0, 77.0, 76.0, 76.0, 79.0, 79.0, 86.0, 88.0, 83.0, 73.0, 82.0, 80.0, 82.0, 74.0, 80.0, 77.0, 79.0, 83.0, 82.0, 81.0, 78.0, 79.0, 78.0, 80.0, 77.0, 82.0, 73.0, 72.0, 79.0, 78.0, 81.0, 81.0, 80.0, 80.0, 81.0, 80.0, 78.0, 74.0, 76.0, 76.0, 81.0, 83.0, 80.0, 74.0, 79.0, 79.0, 80.0, 84.0, 82.0, 81.0, 82.0, 81.0, 77.0, 75.0, 75.0, 80.0, 78.0, 77.0, 76.0, 76.0, 75.0, 66.0, 72.0, 80.0, 77.0, 76.0, 76.0, 81.0, 81.0, 80.0, 73.0, 77.0], [95.0, 97.0, 97.0, 96.0, 96.0, 101.0, 101.0, 99.0, 93.0, 101.0, 110.0, 106.0, 110.0, 100.0, 105.0, 108.0, 102.0, 105.0, 104.0, 104.0, 104.0, 105.0, 109.0, 118.0, 113.0, 101.0, 105.0, 107.0, 107.0, 101.0, 107.0, 104.0, 105.0, 109.0, 109.0, 107.0, 104.0, 106.0, 102.0, 106.0, 102.0, 105.0, 100.0, 98.0, 105.0, 105.0, 106.0, 107.0, 106.0, 107.0, 108.0, 104.0, 103.0, 98.0, 101.0, 100.0, 105.0, 109.0, 109.0, 101.0, 104.0, 106.0, 106.0, 110.0, 110.0, 109.0, 109.0, 110.0, 102.0, 102.0, 99.0, 106.0, 105.0, 104.0, 104.0, 103.0, 102.0, 90.0, 96.0, 104.0, 103.0, 101.0, 100.0, 106.0, 105.0, 106.0, 99.0, 101.0], [150.0, 152.0, 153.0, 150.0, 147.0, 158.0, 153.0, 152.0, 148.0, 154.0, 166.0, 159.0, 167.0, 155.0, 160.0, 168.0, 154.0, 163.0, 161.0, 158.0, 154.0, 155.0, 163.0, 169.0, 162.0, 148.0, 156.0, 162.0, 165.0, 158.0, 165.0, 159.0, 162.0, 167.0, 168.0, 160.0, 157.0, 161.0, 157.0, 159.0, 154.0, 158.0, 153.0, 148.0, 163.0, 162.0, 164.0, 163.0, 161.0, 162.0, 164.0, 160.0, 156.0, 148.0, 158.0, 158.0, 163.0, 169.0, 166.0, 157.0, 163.0, 165.0, 164.0, 168.0, 171.0, 169.0, 169.0, 170.0, 158.0, 157.0, 152.0, 163.0, 161.0, 163.0, 163.0, 162.0, 156.0, 137.0, 147.0, 158.0, 158.0, 155.0, 152.0, 162.0, 161.0, 162.0, 156.0, 156.0]]\n"
     ]
    }
   ],
   "source": [
    "print(selected_data)"
   ]
  },
  {
   "cell_type": "markdown",
   "metadata": {},
   "source": [
    "Function to select data corresponding to a selected Lag from time "
   ]
  },
  {
   "cell_type": "code",
   "execution_count": 81,
   "metadata": {
    "collapsed": true
   },
   "outputs": [],
   "source": [
    "def data_filter(Data_all,Lag):\n",
    "    data = [Data_all[1],Data_all[2],Data_all[3],Data_all[4]]\n",
    "    min_start_time = min(Data_all[5])\n",
    "    max_start_time = max(Data_all[5])\n",
    "    selected_data = [[],[],[],[]]\n",
    "    for t in range(len(Data_all[0])):\n",
    "        start_end_time = zip(Data_all[5],Data_all[5]+Data_all[7])\n",
    "        g_start_end_time = (se for se in start_end_time)\n",
    "        for se_t in g_start_end_time:\n",
    "            if se_t[0]-Lag<=p_2222_partime[t] and p_2222_partime[t]<=se_t[1]-Lag:\n",
    "                for i in range(4):\n",
    "                    selected_data[i].append(data[i][t])\n",
    "                break\n",
    "    return delected_data()"
   ]
  },
  {
   "cell_type": "markdown",
   "metadata": {
    "collapsed": true
   },
   "source": [
    "## Below: Singular Spectrum Analysis to find the chang point"
   ]
  },
  {
   "cell_type": "code",
   "execution_count": 13,
   "metadata": {},
   "outputs": [
    {
     "data": {
      "text/plain": [
       "array([ 0.,  0.,  0.,  0.,  0.,  0.,  0.,  0.,  0.,  0.])"
      ]
     },
     "execution_count": 13,
     "metadata": {},
     "output_type": "execute_result"
    }
   ],
   "source": [
    "np.zeros(10)"
   ]
  },
  {
   "cell_type": "code",
   "execution_count": 67,
   "metadata": {
    "collapsed": true
   },
   "outputs": [],
   "source": [
    "import pandas as pd"
   ]
  },
  {
   "cell_type": "code",
   "execution_count": 16,
   "metadata": {
    "collapsed": true
   },
   "outputs": [],
   "source": [
    "rng = pd.date_range('1/1/2011', periods=72, freq='H')\n",
    "ts =pd.Series(np.random.randn(len(rng)), index=rng)"
   ]
  },
  {
   "cell_type": "code",
   "execution_count": 18,
   "metadata": {},
   "outputs": [
    {
     "data": {
      "text/plain": [
       "'H'"
      ]
     },
     "execution_count": 18,
     "metadata": {},
     "output_type": "execute_result"
    }
   ],
   "source": [
    "pd.infer_freq(ts.index)"
   ]
  },
  {
   "cell_type": "code",
   "execution_count": 21,
   "metadata": {},
   "outputs": [
    {
     "data": {
      "text/plain": [
       "'H'"
      ]
     },
     "execution_count": 21,
     "metadata": {},
     "output_type": "execute_result"
    }
   ],
   "source": [
    "ts.index.inferred_freq"
   ]
  },
  {
   "cell_type": "code",
   "execution_count": 25,
   "metadata": {},
   "outputs": [
    {
     "data": {
      "text/plain": [
       "tuple"
      ]
     },
     "execution_count": 25,
     "metadata": {},
     "output_type": "execute_result"
    }
   ],
   "source": [
    "type(ts.shape)"
   ]
  },
  {
   "cell_type": "code",
   "execution_count": 26,
   "metadata": {},
   "outputs": [
    {
     "data": {
      "text/plain": [
       "72"
      ]
     },
     "execution_count": 26,
     "metadata": {},
     "output_type": "execute_result"
    }
   ],
   "source": [
    "ts.shape[0]"
   ]
  },
  {
   "cell_type": "code",
   "execution_count": 28,
   "metadata": {},
   "outputs": [
    {
     "data": {
      "text/plain": [
       "'H'"
      ]
     },
     "execution_count": 28,
     "metadata": {},
     "output_type": "execute_result"
    }
   ],
   "source": [
    "ts.index.inferred_freq"
   ]
  },
  {
   "cell_type": "code",
   "execution_count": 30,
   "metadata": {
    "collapsed": true
   },
   "outputs": [],
   "source": [
    "a={'good':[1,2,3,4,3,4,5,6,7]}\n",
    "a=pd.DataFrame(a)"
   ]
  },
  {
   "cell_type": "code",
   "execution_count": 38,
   "metadata": {},
   "outputs": [
    {
     "data": {
      "text/plain": [
       "<bound method Index.tolist of Index(['good'], dtype='object')>"
      ]
     },
     "execution_count": 38,
     "metadata": {},
     "output_type": "execute_result"
    }
   ],
   "source": [
    "a.columns.tolist"
   ]
  },
  {
   "cell_type": "code",
   "execution_count": 68,
   "metadata": {
    "collapsed": true
   },
   "outputs": [],
   "source": [
    "from numpy import matrix as m\n",
    "import matplotlib.pylab as plb\n",
    "import scipy.linalg as linalg\n",
    "from pandas import DataFrame as df "
   ]
  },
  {
   "cell_type": "code",
   "execution_count": 62,
   "metadata": {
    "collapsed": true
   },
   "outputs": [],
   "source": [
    "a = np.array([1,2,3,4,5,6,7,8,9,10,11])\n",
    "m = 3\n",
    "\n",
    "N = 6\n",
    "n=1\n",
    "k = n - m + 1\n",
    "n=1"
   ]
  },
  {
   "cell_type": "code",
   "execution_count": 63,
   "metadata": {
    "collapsed": true
   },
   "outputs": [],
   "source": [
    "from scipy.linalg import hankel\n"
   ]
  },
  {
   "cell_type": "code",
   "execution_count": 58,
   "metadata": {},
   "outputs": [
    {
     "data": {
      "text/plain": [
       "array([[  1.,   2.,   3.],\n",
       "       [  2.,   3.,   4.],\n",
       "       [  3.,   4.,   5.],\n",
       "       [  4.,   5.,   6.],\n",
       "       [  5.,   6.,   7.],\n",
       "       [  6.,   7.,   8.],\n",
       "       [  7.,   8.,   9.],\n",
       "       [  8.,   9.,  10.],\n",
       "       [  9.,  10.,  11.],\n",
       "       [ 10.,  11.,   0.],\n",
       "       [ 11.,   0.,   0.]])"
      ]
     },
     "execution_count": 58,
     "metadata": {},
     "output_type": "execute_result"
    }
   ],
   "source": [
    "hankel(a,np.zeros(m))"
   ]
  },
  {
   "cell_type": "code",
   "execution_count": 64,
   "metadata": {
    "collapsed": true
   },
   "outputs": [],
   "source": [
    "s = hankel(a[n+1:n+m+1],a[m+n:n+N+1])"
   ]
  },
  {
   "cell_type": "code",
   "execution_count": 66,
   "metadata": {},
   "outputs": [
    {
     "data": {
      "text/plain": [
       "array([[3, 4, 5, 6],\n",
       "       [4, 5, 6, 7],\n",
       "       [5, 6, 7, 8]])"
      ]
     },
     "execution_count": 66,
     "metadata": {},
     "output_type": "execute_result"
    }
   ],
   "source": [
    "s"
   ]
  },
  {
   "cell_type": "code",
   "execution_count": 69,
   "metadata": {
    "collapsed": true
   },
   "outputs": [],
   "source": [
    "c = m(s)"
   ]
  },
  {
   "cell_type": "code",
   "execution_count": 70,
   "metadata": {},
   "outputs": [
    {
     "data": {
      "text/plain": [
       "matrix([[ 86, 104, 122],\n",
       "        [104, 126, 148],\n",
       "        [122, 148, 174]])"
      ]
     },
     "execution_count": 70,
     "metadata": {},
     "output_type": "execute_result"
    }
   ],
   "source": [
    "c.dot(c.T)"
   ]
  },
  {
   "cell_type": "code",
   "execution_count": 70,
   "metadata": {},
   "outputs": [
    {
     "data": {
      "text/plain": [
       "matrix([[3, 4, 5, 6],\n",
       "        [4, 5, 6, 7],\n",
       "        [5, 6, 7, 8]])"
      ]
     },
     "execution_count": 70,
     "metadata": {},
     "output_type": "execute_result"
    }
   ],
   "source": [
    "c"
   ]
  },
  {
   "cell_type": "code",
   "execution_count": 72,
   "metadata": {},
   "outputs": [
    {
     "data": {
      "text/plain": [
       "matrix([[3],\n",
       "        [4],\n",
       "        [5]])"
      ]
     },
     "execution_count": 72,
     "metadata": {},
     "output_type": "execute_result"
    }
   ],
   "source": [
    "c[:,0]"
   ]
  },
  {
   "cell_type": "code",
   "execution_count": 74,
   "metadata": {},
   "outputs": [
    {
     "data": {
      "text/plain": [
       "4"
      ]
     },
     "execution_count": 74,
     "metadata": {},
     "output_type": "execute_result"
    }
   ],
   "source": [
    "c.shape[1]"
   ]
  },
  {
   "cell_type": "code",
   "execution_count": 82,
   "metadata": {
    "collapsed": true
   },
   "outputs": [],
   "source": [
    "s = m([[1]])"
   ]
  },
  {
   "cell_type": "code",
   "execution_count": 83,
   "metadata": {},
   "outputs": [
    {
     "data": {
      "text/plain": [
       "matrix([[1]])"
      ]
     },
     "execution_count": 83,
     "metadata": {},
     "output_type": "execute_result"
    }
   ],
   "source": [
    "s"
   ]
  },
  {
   "cell_type": "code",
   "execution_count": 85,
   "metadata": {},
   "outputs": [
    {
     "data": {
      "text/plain": [
       "1"
      ]
     },
     "execution_count": 85,
     "metadata": {},
     "output_type": "execute_result"
    }
   ],
   "source": [
    "s[0,0]"
   ]
  },
  {
   "cell_type": "code",
   "execution_count": 95,
   "metadata": {},
   "outputs": [
    {
     "data": {
      "text/plain": [
       "matrix([[3, 4, 5, 6],\n",
       "        [4, 5, 6, 7],\n",
       "        [5, 6, 7, 8]])"
      ]
     },
     "execution_count": 95,
     "metadata": {},
     "output_type": "execute_result"
    }
   ],
   "source": [
    "m(c)"
   ]
  },
  {
   "cell_type": "code",
   "execution_count": 87,
   "metadata": {
    "collapsed": true
   },
   "outputs": [],
   "source": [
    "c = df(c)"
   ]
  },
  {
   "cell_type": "code",
   "execution_count": 89,
   "metadata": {
    "collapsed": true
   },
   "outputs": [],
   "source": [
    "c.columns=['a','s','d','f']"
   ]
  },
  {
   "cell_type": "code",
   "execution_count": 91,
   "metadata": {},
   "outputs": [
    {
     "data": {
      "text/plain": [
       "pandas.core.series.Series"
      ]
     },
     "execution_count": 91,
     "metadata": {},
     "output_type": "execute_result"
    }
   ],
   "source": [
    "type(c['f'])"
   ]
  },
  {
   "cell_type": "code",
   "execution_count": 93,
   "metadata": {},
   "outputs": [
    {
     "data": {
      "text/html": [
       "<div>\n",
       "<style>\n",
       "    .dataframe thead tr:only-child th {\n",
       "        text-align: right;\n",
       "    }\n",
       "\n",
       "    .dataframe thead th {\n",
       "        text-align: left;\n",
       "    }\n",
       "\n",
       "    .dataframe tbody tr th {\n",
       "        vertical-align: top;\n",
       "    }\n",
       "</style>\n",
       "<table border=\"1\" class=\"dataframe\">\n",
       "  <thead>\n",
       "    <tr style=\"text-align: right;\">\n",
       "      <th></th>\n",
       "      <th>a</th>\n",
       "      <th>s</th>\n",
       "      <th>d</th>\n",
       "      <th>f</th>\n",
       "    </tr>\n",
       "  </thead>\n",
       "  <tbody>\n",
       "    <tr>\n",
       "      <th>0</th>\n",
       "      <td>3</td>\n",
       "      <td>4</td>\n",
       "      <td>5</td>\n",
       "      <td>6</td>\n",
       "    </tr>\n",
       "  </tbody>\n",
       "</table>\n",
       "</div>"
      ],
      "text/plain": [
       "   a  s  d  f\n",
       "0  3  4  5  6"
      ]
     },
     "execution_count": 93,
     "metadata": {},
     "output_type": "execute_result"
    }
   ],
   "source": [
    "c[c['f']==6]"
   ]
  },
  {
   "cell_type": "code",
   "execution_count": 98,
   "metadata": {},
   "outputs": [
    {
     "ename": "TypeError",
     "evalue": "unhashable type: 'slice'",
     "output_type": "error",
     "traceback": [
      "\u001b[0;31m---------------------------------------------------------------------------\u001b[0m",
      "\u001b[0;31mTypeError\u001b[0m                                 Traceback (most recent call last)",
      "\u001b[0;32m<ipython-input-98-653eb66a8d4d>\u001b[0m in \u001b[0;36m<module>\u001b[0;34m()\u001b[0m\n\u001b[0;32m----> 1\u001b[0;31m \u001b[0mnp\u001b[0m\u001b[0;34m.\u001b[0m\u001b[0mhstack\u001b[0m\u001b[0;34m(\u001b[0m\u001b[0mc\u001b[0m\u001b[0;34m[\u001b[0m\u001b[0;34m:\u001b[0m\u001b[0;34m,\u001b[0m\u001b[0;36m0\u001b[0m\u001b[0;34m]\u001b[0m\u001b[0;34m,\u001b[0m\u001b[0mc\u001b[0m\u001b[0;34m[\u001b[0m\u001b[0;34m:\u001b[0m\u001b[0;34m,\u001b[0m\u001b[0;36m1\u001b[0m\u001b[0;34m]\u001b[0m\u001b[0;34m)\u001b[0m\u001b[0;34m\u001b[0m\u001b[0m\n\u001b[0m",
      "\u001b[0;32m/usr/local/lib/python3.6/site-packages/pandas/core/frame.py\u001b[0m in \u001b[0;36m__getitem__\u001b[0;34m(self, key)\u001b[0m\n\u001b[1;32m   1962\u001b[0m             \u001b[0;32mreturn\u001b[0m \u001b[0mself\u001b[0m\u001b[0;34m.\u001b[0m\u001b[0m_getitem_multilevel\u001b[0m\u001b[0;34m(\u001b[0m\u001b[0mkey\u001b[0m\u001b[0;34m)\u001b[0m\u001b[0;34m\u001b[0m\u001b[0m\n\u001b[1;32m   1963\u001b[0m         \u001b[0;32melse\u001b[0m\u001b[0;34m:\u001b[0m\u001b[0;34m\u001b[0m\u001b[0m\n\u001b[0;32m-> 1964\u001b[0;31m             \u001b[0;32mreturn\u001b[0m \u001b[0mself\u001b[0m\u001b[0;34m.\u001b[0m\u001b[0m_getitem_column\u001b[0m\u001b[0;34m(\u001b[0m\u001b[0mkey\u001b[0m\u001b[0;34m)\u001b[0m\u001b[0;34m\u001b[0m\u001b[0m\n\u001b[0m\u001b[1;32m   1965\u001b[0m \u001b[0;34m\u001b[0m\u001b[0m\n\u001b[1;32m   1966\u001b[0m     \u001b[0;32mdef\u001b[0m \u001b[0m_getitem_column\u001b[0m\u001b[0;34m(\u001b[0m\u001b[0mself\u001b[0m\u001b[0;34m,\u001b[0m \u001b[0mkey\u001b[0m\u001b[0;34m)\u001b[0m\u001b[0;34m:\u001b[0m\u001b[0;34m\u001b[0m\u001b[0m\n",
      "\u001b[0;32m/usr/local/lib/python3.6/site-packages/pandas/core/frame.py\u001b[0m in \u001b[0;36m_getitem_column\u001b[0;34m(self, key)\u001b[0m\n\u001b[1;32m   1969\u001b[0m         \u001b[0;31m# get column\u001b[0m\u001b[0;34m\u001b[0m\u001b[0;34m\u001b[0m\u001b[0m\n\u001b[1;32m   1970\u001b[0m         \u001b[0;32mif\u001b[0m \u001b[0mself\u001b[0m\u001b[0;34m.\u001b[0m\u001b[0mcolumns\u001b[0m\u001b[0;34m.\u001b[0m\u001b[0mis_unique\u001b[0m\u001b[0;34m:\u001b[0m\u001b[0;34m\u001b[0m\u001b[0m\n\u001b[0;32m-> 1971\u001b[0;31m             \u001b[0;32mreturn\u001b[0m \u001b[0mself\u001b[0m\u001b[0;34m.\u001b[0m\u001b[0m_get_item_cache\u001b[0m\u001b[0;34m(\u001b[0m\u001b[0mkey\u001b[0m\u001b[0;34m)\u001b[0m\u001b[0;34m\u001b[0m\u001b[0m\n\u001b[0m\u001b[1;32m   1972\u001b[0m \u001b[0;34m\u001b[0m\u001b[0m\n\u001b[1;32m   1973\u001b[0m         \u001b[0;31m# duplicate columns & possible reduce dimensionality\u001b[0m\u001b[0;34m\u001b[0m\u001b[0;34m\u001b[0m\u001b[0m\n",
      "\u001b[0;32m/usr/local/lib/python3.6/site-packages/pandas/core/generic.py\u001b[0m in \u001b[0;36m_get_item_cache\u001b[0;34m(self, item)\u001b[0m\n\u001b[1;32m   1641\u001b[0m         \u001b[0;34m\"\"\"Return the cached item, item represents a label indexer.\"\"\"\u001b[0m\u001b[0;34m\u001b[0m\u001b[0m\n\u001b[1;32m   1642\u001b[0m         \u001b[0mcache\u001b[0m \u001b[0;34m=\u001b[0m \u001b[0mself\u001b[0m\u001b[0;34m.\u001b[0m\u001b[0m_item_cache\u001b[0m\u001b[0;34m\u001b[0m\u001b[0m\n\u001b[0;32m-> 1643\u001b[0;31m         \u001b[0mres\u001b[0m \u001b[0;34m=\u001b[0m \u001b[0mcache\u001b[0m\u001b[0;34m.\u001b[0m\u001b[0mget\u001b[0m\u001b[0;34m(\u001b[0m\u001b[0mitem\u001b[0m\u001b[0;34m)\u001b[0m\u001b[0;34m\u001b[0m\u001b[0m\n\u001b[0m\u001b[1;32m   1644\u001b[0m         \u001b[0;32mif\u001b[0m \u001b[0mres\u001b[0m \u001b[0;32mis\u001b[0m \u001b[0;32mNone\u001b[0m\u001b[0;34m:\u001b[0m\u001b[0;34m\u001b[0m\u001b[0m\n\u001b[1;32m   1645\u001b[0m             \u001b[0mvalues\u001b[0m \u001b[0;34m=\u001b[0m \u001b[0mself\u001b[0m\u001b[0;34m.\u001b[0m\u001b[0m_data\u001b[0m\u001b[0;34m.\u001b[0m\u001b[0mget\u001b[0m\u001b[0;34m(\u001b[0m\u001b[0mitem\u001b[0m\u001b[0;34m)\u001b[0m\u001b[0;34m\u001b[0m\u001b[0m\n",
      "\u001b[0;31mTypeError\u001b[0m: unhashable type: 'slice'"
     ]
    }
   ],
   "source": [
    "np.hstack(c[:,0],c[:,1])"
   ]
  },
  {
   "cell_type": "code",
   "execution_count": 100,
   "metadata": {
    "collapsed": true
   },
   "outputs": [],
   "source": [
    "b=1/np.array([1,2,3,4,5])"
   ]
  },
  {
   "cell_type": "code",
   "execution_count": 102,
   "metadata": {
    "collapsed": true
   },
   "outputs": [],
   "source": [
    "b[b>.5]=100"
   ]
  },
  {
   "cell_type": "code",
   "execution_count": 103,
   "metadata": {},
   "outputs": [
    {
     "data": {
      "text/plain": [
       "array([ 100.        ,    0.5       ,    0.33333333,    0.25      ,    0.2       ])"
      ]
     },
     "execution_count": 103,
     "metadata": {},
     "output_type": "execute_result"
    }
   ],
   "source": [
    "b"
   ]
  },
  {
   "cell_type": "code",
   "execution_count": 105,
   "metadata": {},
   "outputs": [
    {
     "ename": "ValueError",
     "evalue": "The truth value of an array with more than one element is ambiguous. Use a.any() or a.all()",
     "output_type": "error",
     "traceback": [
      "\u001b[0;31m---------------------------------------------------------------------------\u001b[0m",
      "\u001b[0;31mValueError\u001b[0m                                Traceback (most recent call last)",
      "\u001b[0;32m<ipython-input-105-49ac8106c420>\u001b[0m in \u001b[0;36m<module>\u001b[0;34m()\u001b[0m\n\u001b[0;32m----> 1\u001b[0;31m \u001b[0mb\u001b[0m\u001b[0;34m[\u001b[0m\u001b[0;32mnot\u001b[0m \u001b[0mb\u001b[0m\u001b[0;34m<\u001b[0m\u001b[0;36m20\u001b[0m\u001b[0;34m]\u001b[0m \u001b[0;34m=\u001b[0m \u001b[0;36m1\u001b[0m\u001b[0;34m\u001b[0m\u001b[0m\n\u001b[0m",
      "\u001b[0;31mValueError\u001b[0m: The truth value of an array with more than one element is ambiguous. Use a.any() or a.all()"
     ]
    }
   ],
   "source": [
    "b[b<20] = 1"
   ]
  },
  {
   "cell_type": "code",
   "execution_count": 107,
   "metadata": {},
   "outputs": [
    {
     "name": "stdout",
     "output_type": "stream",
     "text": [
      "  col1  col2  col3\n",
      "0    a     1  11.0\n",
      "1    b     2   NaN\n",
      "  col1  col2  col3\n",
      "0    a     1    11\n",
      "1    b     2  None\n"
     ]
    }
   ],
   "source": [
    "import pandas as pd\n",
    "df1 = pd.DataFrame([{'col1':'a', 'col2':1}, {'col1':'b', 'col2':2}])\n",
    "df2 = pd.DataFrame([{'col1':'a', 'col3':11}, {'col1':'c', 'col3':33}])\n",
    "\n",
    "data = pd.merge(left=df1, right=df2, how='left', left_on='col1', right_on='col1')\n",
    "print (data)\n",
    "\n",
    "print (data.where(data.notnull(), None))"
   ]
  },
  {
   "cell_type": "code",
   "execution_count": 110,
   "metadata": {},
   "outputs": [
    {
     "name": "stdout",
     "output_type": "stream",
     "text": [
      "2\n",
      "3\n",
      "4\n",
      "5\n",
      "6\n",
      "7\n",
      "8\n",
      "9\n"
     ]
    }
   ],
   "source": [
    "for i in range(2,10):\n",
    "    print(i)"
   ]
  },
  {
   "cell_type": "code",
   "execution_count": 111,
   "metadata": {},
   "outputs": [
    {
     "data": {
      "text/plain": [
       "array([1, 1, 2])"
      ]
     },
     "execution_count": 111,
     "metadata": {},
     "output_type": "execute_result"
    }
   ],
   "source": [
    "abs(np.array([1,-1,2]))"
   ]
  },
  {
   "cell_type": "code",
   "execution_count": 112,
   "metadata": {
    "collapsed": true
   },
   "outputs": [],
   "source": [
    "x = [1,2,3,4,5,5]\n",
    "y = [2,3,4,5,6,7]\n"
   ]
  },
  {
   "cell_type": "code",
   "execution_count": 113,
   "metadata": {
    "collapsed": true
   },
   "outputs": [],
   "source": [
    "import matplotlib.pyplot as plt "
   ]
  },
  {
   "cell_type": "code",
   "execution_count": 132,
   "metadata": {},
   "outputs": [
    {
     "data": {
      "image/png": "[encoded data removed]",
      "text/plain": [
       "<matplotlib.figure.Figure at 0x10e31aba8>"
      ]
     },
     "metadata": {},
     "output_type": "display_data"
    }
   ],
   "source": [
    "plt.figure()\n",
    "plt.axis([0,4,3,6])\n",
    "plt.plot(x,y)\n",
    "plt.show()"
   ]
  },
  {
   "cell_type": "code",
   "execution_count": 136,
   "metadata": {},
   "outputs": [
    {
     "data": {
      "text/plain": [
       "True"
      ]
     },
     "execution_count": 136,
     "metadata": {},
     "output_type": "execute_result"
    }
   ],
   "source": [
    "i = [1,2,3,4,5]\n",
    "1 in i"
   ]
  },
  {
   "cell_type": "code",
   "execution_count": null,
   "metadata": {
    "collapsed": true
   },
   "outputs": [],
   "source": []
  }
 ],
 "metadata": {
  "kernelspec": {
   "display_name": "Python 3",
   "language": "python",
   "name": "python3"
  },
  "language_info": {
   "codemirror_mode": {
    "name": "ipython",
    "version": 3
   },
   "file_extension": ".py",
   "mimetype": "text/x-python",
   "name": "python",
   "nbconvert_exporter": "python",
   "pygments_lexer": "ipython3",
   "version": "3.6.1"
  }
 },
 "nbformat": 4,
 "nbformat_minor": 2
}
